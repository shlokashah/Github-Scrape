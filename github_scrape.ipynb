{
 "cells": [
  {
   "cell_type": "code",
   "execution_count": 2,
   "metadata": {},
   "outputs": [],
   "source": [
    "import requests\n",
    "from bs4 import BeautifulSoup\n",
    "import matplotlib.pyplot as plt"
   ]
  },
  {
   "cell_type": "code",
   "execution_count": 121,
   "metadata": {},
   "outputs": [],
   "source": [
    "URL = 'https://github.com/shlokashah/'\n",
    "page = requests.get(URL)"
   ]
  },
  {
   "cell_type": "code",
   "execution_count": 122,
   "metadata": {},
   "outputs": [
    {
     "data": {
      "text/plain": [
       "<Response [200]>"
      ]
     },
     "execution_count": 122,
     "metadata": {},
     "output_type": "execute_result"
    }
   ],
   "source": [
    "page"
   ]
  },
  {
   "cell_type": "code",
   "execution_count": 123,
   "metadata": {},
   "outputs": [],
   "source": [
    "soup = BeautifulSoup(page.content, 'html.parser')\n"
   ]
  },
  {
   "cell_type": "code",
   "execution_count": 124,
   "metadata": {},
   "outputs": [],
   "source": [
    "# soup"
   ]
  },
  {
   "cell_type": "code",
   "execution_count": 125,
   "metadata": {},
   "outputs": [],
   "source": [
    "temp = soup.find('div',class_=\"p-note user-profile-bio mb-3 js-user-profile-bio f4\")"
   ]
  },
  {
   "cell_type": "code",
   "execution_count": 126,
   "metadata": {},
   "outputs": [
    {
     "name": "stdout",
     "output_type": "stream",
     "text": [
      "<div>Final Year Computer Science Student at Sardar Patel Institute Of Technology</div>\n"
     ]
    }
   ],
   "source": [
    "temp = temp.find('div')\n",
    "print(temp)"
   ]
  },
  {
   "cell_type": "code",
   "execution_count": 127,
   "metadata": {},
   "outputs": [
    {
     "data": {
      "text/plain": [
       "'Final Year Computer Science Student at Sardar Patel Institute Of Technology'"
      ]
     },
     "execution_count": 127,
     "metadata": {},
     "output_type": "execute_result"
    }
   ],
   "source": [
    "profile_bio = temp.text\n",
    "profile_bio"
   ]
  },
  {
   "cell_type": "code",
   "execution_count": 128,
   "metadata": {},
   "outputs": [],
   "source": [
    "temp = soup.find_all(class_=\"link-gray no-underline no-wrap\")\n",
    "# temp"
   ]
  },
  {
   "cell_type": "code",
   "execution_count": 129,
   "metadata": {},
   "outputs": [],
   "source": [
    "flag = []\n",
    "for t in temp:\n",
    "    f = t.find(class_='text-bold text-gray-dark')\n",
    "    flag.append(f.text)"
   ]
  },
  {
   "cell_type": "code",
   "execution_count": 130,
   "metadata": {},
   "outputs": [
    {
     "data": {
      "text/plain": [
       "['11', '11', '27']"
      ]
     },
     "execution_count": 130,
     "metadata": {},
     "output_type": "execute_result"
    }
   ],
   "source": [
    "flag"
   ]
  },
  {
   "cell_type": "code",
   "execution_count": 131,
   "metadata": {},
   "outputs": [],
   "source": [
    "followers = flag[0]\n",
    "following = flag[1]\n",
    "starred_repo_by_user = flag[2]"
   ]
  },
  {
   "cell_type": "code",
   "execution_count": 132,
   "metadata": {},
   "outputs": [
    {
     "data": {
      "text/plain": [
       "<li aria-label=\"Home location: Mumbai\" class=\"vcard-detail pt-1 css-truncate css-truncate-target hide-sm hide-md\" itemprop=\"homeLocation\" show_title=\"false\"><svg aria-hidden=\"true\" class=\"octicon octicon-location\" height=\"16\" version=\"1.1\" viewbox=\"0 0 16 16\" width=\"16\"><path d=\"M11.536 3.464a5 5 0 010 7.072L8 14.07l-3.536-3.535a5 5 0 117.072-7.072v.001zm1.06 8.132a6.5 6.5 0 10-9.192 0l3.535 3.536a1.5 1.5 0 002.122 0l3.535-3.536zM8 9a2 2 0 100-4 2 2 0 000 4z\" fill-rule=\"evenodd\"></path></svg>\n",
       "<span class=\"p-label\">Mumbai</span>\n",
       "</li>"
      ]
     },
     "execution_count": 132,
     "metadata": {},
     "output_type": "execute_result"
    }
   ],
   "source": [
    "temp = soup.find(class_='vcard-detail pt-1 css-truncate css-truncate-target hide-sm hide-md')\n",
    "temp"
   ]
  },
  {
   "cell_type": "code",
   "execution_count": 133,
   "metadata": {},
   "outputs": [],
   "source": [
    "location = temp.find(class_='p-label').text"
   ]
  },
  {
   "cell_type": "code",
   "execution_count": 134,
   "metadata": {},
   "outputs": [
    {
     "data": {
      "text/plain": [
       "'Mumbai'"
      ]
     },
     "execution_count": 134,
     "metadata": {},
     "output_type": "execute_result"
    }
   ],
   "source": [
    "location"
   ]
  },
  {
   "cell_type": "code",
   "execution_count": 135,
   "metadata": {},
   "outputs": [
    {
     "data": {
      "text/plain": [
       "<li class=\"vcard-detail pt-1 css-truncate css-truncate-target\" data-test-selector=\"profile-website-url\" itemprop=\"url\"><svg aria-hidden=\"true\" class=\"octicon octicon-link\" height=\"16\" version=\"1.1\" viewbox=\"0 0 16 16\" width=\"16\"><path d=\"M7.775 3.275a.75.75 0 001.06 1.06l1.25-1.25a2 2 0 112.83 2.83l-2.5 2.5a2 2 0 01-2.83 0 .75.75 0 00-1.06 1.06 3.5 3.5 0 004.95 0l2.5-2.5a3.5 3.5 0 00-4.95-4.95l-1.25 1.25zm-4.69 9.64a2 2 0 010-2.83l2.5-2.5a2 2 0 012.83 0 .75.75 0 001.06-1.06 3.5 3.5 0 00-4.95 0l-2.5 2.5a3.5 3.5 0 004.95 4.95l1.25-1.25a.75.75 0 00-1.06-1.06l-1.25 1.25a2 2 0 01-2.83 0z\" fill-rule=\"evenodd\"></path></svg>\n",
       "<a class=\"link-gray-dark\" href=\"https://shlokashah.github.io\" rel=\"nofollow me\">https://shlokashah.github.io</a>\n",
       "</li>"
      ]
     },
     "execution_count": 135,
     "metadata": {},
     "output_type": "execute_result"
    }
   ],
   "source": [
    "temp = soup.find_all(class_='vcard-detail pt-1 css-truncate css-truncate-target')[1]\n",
    "temp"
   ]
  },
  {
   "cell_type": "code",
   "execution_count": 136,
   "metadata": {},
   "outputs": [],
   "source": [
    "website_link = temp.find_all(class_ ='link-gray-dark')[0].text"
   ]
  },
  {
   "cell_type": "code",
   "execution_count": 137,
   "metadata": {},
   "outputs": [
    {
     "data": {
      "text/plain": [
       "'https://shlokashah.github.io'"
      ]
     },
     "execution_count": 137,
     "metadata": {},
     "output_type": "execute_result"
    }
   ],
   "source": [
    "website_link"
   ]
  },
  {
   "cell_type": "code",
   "execution_count": 138,
   "metadata": {},
   "outputs": [],
   "source": [
    "temp = soup.find_all('a',class_=\"UnderlineNav-item\")[1]"
   ]
  },
  {
   "cell_type": "code",
   "execution_count": 139,
   "metadata": {},
   "outputs": [
    {
     "data": {
      "text/plain": [
       "<a class=\"UnderlineNav-item\" data-hydro-click='{\"event_type\":\"user_profile.click\",\"payload\":{\"profile_user_id\":42071210,\"target\":\"TAB_REPOSITORIES\",\"user_id\":null,\"originating_url\":\"https://github.com/shlokashah\"}}' data-hydro-click-hmac=\"96911c978de926d46c0db570373fb81ee5284bac727ca7408741a1abf3984cbc\" href=\"/shlokashah?tab=repositories\">\n",
       "<svg aria-hidden=\"true\" class=\"octicon octicon-repo UnderlineNav-octicon hide-sm\" height=\"16\" version=\"1.1\" viewbox=\"0 0 16 16\" width=\"16\"><path d=\"M2 2.5A2.5 2.5 0 014.5 0h8.75a.75.75 0 01.75.75v12.5a.75.75 0 01-.75.75h-2.5a.75.75 0 110-1.5h1.75v-2h-8a1 1 0 00-.714 1.7.75.75 0 01-1.072 1.05A2.495 2.495 0 012 11.5v-9zm10.5-1V9h-8c-.356 0-.694.074-1 .208V2.5a1 1 0 011-1h8zM5 12.25v3.25a.25.25 0 00.4.2l1.45-1.087a.25.25 0 01.3 0L8.6 15.7a.25.25 0 00.4-.2v-3.25a.25.25 0 00-.25-.25h-3.5a.25.25 0 00-.25.25z\" fill-rule=\"evenodd\"></path></svg>\n",
       "      Repositories\n",
       "      <span class=\"Counter\" title=\"26\">26</span>\n",
       "</a>"
      ]
     },
     "execution_count": 139,
     "metadata": {},
     "output_type": "execute_result"
    }
   ],
   "source": [
    "temp"
   ]
  },
  {
   "cell_type": "code",
   "execution_count": 140,
   "metadata": {},
   "outputs": [
    {
     "data": {
      "text/plain": [
       "'26'"
      ]
     },
     "execution_count": 140,
     "metadata": {},
     "output_type": "execute_result"
    }
   ],
   "source": [
    "repository_count = temp.find(class_='Counter').text\n",
    "repository_count"
   ]
  },
  {
   "cell_type": "code",
   "execution_count": 141,
   "metadata": {},
   "outputs": [],
   "source": [
    "temp = soup.find('div',class_=\"js-yearly-contributions\")"
   ]
  },
  {
   "cell_type": "code",
   "execution_count": 142,
   "metadata": {},
   "outputs": [
    {
     "data": {
      "text/plain": [
       "'398'"
      ]
     },
     "execution_count": 142,
     "metadata": {},
     "output_type": "execute_result"
    }
   ],
   "source": [
    "total_contributions = temp.find(class_='f4 text-normal mb-2').text.strip()[:3]\n",
    "total_contributions "
   ]
  },
  {
   "cell_type": "code",
   "execution_count": 143,
   "metadata": {},
   "outputs": [
    {
     "data": {
      "text/plain": [
       "<ul class=\"filter-list small\">\n",
       "<li>\n",
       "<a aria-label=\"Contribution activity in 2020\" class=\"js-year-link filter-item px-3 mb-2 py-2 selected\" data-hydro-click='{\"event_type\":\"user_profile.click\",\"payload\":{\"profile_user_id\":42071210,\"target\":\"CONTRIBUTION_YEAR_LINK\",\"user_id\":null,\"originating_url\":\"https://github.com/shlokashah\"}}' data-hydro-click-hmac=\"b16ee3b44a461f67adf39aedf9e9393d9dfc3cd1a0556c6f5bf63e807b9cc363\" href=\"/shlokashah?tab=overview&amp;from=2020-10-01&amp;to=2020-10-26\" id=\"year-link-2020\">2020</a>\n",
       "</li>\n",
       "<li>\n",
       "<a aria-label=\"Contribution activity in 2019\" class=\"js-year-link filter-item px-3 mb-2 py-2\" data-hydro-click='{\"event_type\":\"user_profile.click\",\"payload\":{\"profile_user_id\":42071210,\"target\":\"CONTRIBUTION_YEAR_LINK\",\"user_id\":null,\"originating_url\":\"https://github.com/shlokashah\"}}' data-hydro-click-hmac=\"b16ee3b44a461f67adf39aedf9e9393d9dfc3cd1a0556c6f5bf63e807b9cc363\" href=\"/shlokashah?tab=overview&amp;from=2019-12-01&amp;to=2019-12-31\" id=\"year-link-2019\">2019</a>\n",
       "</li>\n",
       "<li>\n",
       "<a aria-label=\"Contribution activity in 2018\" class=\"js-year-link filter-item px-3 mb-2 py-2\" data-hydro-click='{\"event_type\":\"user_profile.click\",\"payload\":{\"profile_user_id\":42071210,\"target\":\"CONTRIBUTION_YEAR_LINK\",\"user_id\":null,\"originating_url\":\"https://github.com/shlokashah\"}}' data-hydro-click-hmac=\"b16ee3b44a461f67adf39aedf9e9393d9dfc3cd1a0556c6f5bf63e807b9cc363\" href=\"/shlokashah?tab=overview&amp;from=2018-12-01&amp;to=2018-12-31\" id=\"year-link-2018\">2018</a>\n",
       "</li>\n",
       "</ul>"
      ]
     },
     "execution_count": 143,
     "metadata": {},
     "output_type": "execute_result"
    }
   ],
   "source": [
    "temp = soup.find(class_='filter-list small')\n",
    "temp"
   ]
  },
  {
   "cell_type": "code",
   "execution_count": 144,
   "metadata": {},
   "outputs": [
    {
     "data": {
      "text/plain": [
       "['/shlokashah?tab=overview&from=2020-10-01&to=2020-10-26']"
      ]
     },
     "execution_count": 144,
     "metadata": {},
     "output_type": "execute_result"
    }
   ],
   "source": [
    "contribution = []\n",
    "contribution.append(temp.find(class_='js-year-link filter-item px-3 mb-2 py-2 selected')['href'])\n",
    "contribution"
   ]
  },
  {
   "cell_type": "code",
   "execution_count": 145,
   "metadata": {},
   "outputs": [
    {
     "name": "stdout",
     "output_type": "stream",
     "text": [
      "\n",
      "['/shlokashah?tab=overview&from=2020-10-01&to=2020-10-26', '/shlokashah?tab=overview&from=2019-12-01&to=2019-12-31', '/shlokashah?tab=overview&from=2018-12-01&to=2018-12-31']\n",
      "3\n"
     ]
    }
   ],
   "source": [
    "year = []\n",
    "# print(temp)\n",
    "year.append(temp.find_all(class_='js-year-link filter-item px-3 mb-2 py-2'))\n",
    "contribution.append(year[0][0]['href'])\n",
    "contribution.append(year[0][1]['href'])\n",
    "print()\n",
    "print(contribution)\n",
    "no_of_years = len(contribution)\n",
    "print(no_of_years)"
   ]
  },
  {
   "cell_type": "code",
   "execution_count": 146,
   "metadata": {},
   "outputs": [
    {
     "data": {
      "text/plain": [
       "[2020, 2019, 2018]"
      ]
     },
     "execution_count": 146,
     "metadata": {},
     "output_type": "execute_result"
    }
   ],
   "source": [
    "current_year = [2020]\n",
    "flag = current_year[0]-1\n",
    "for i in range(no_of_years-1):\n",
    "    current_year.append(flag)   \n",
    "    flag=flag-1\n",
    "current_year"
   ]
  },
  {
   "cell_type": "code",
   "execution_count": 147,
   "metadata": {},
   "outputs": [
    {
     "data": {
      "text/plain": [
       "['376', '68 ', '35 ']"
      ]
     },
     "execution_count": 147,
     "metadata": {},
     "output_type": "execute_result"
    }
   ],
   "source": [
    "contribution_per_year = []\n",
    "for i in contribution:\n",
    "    year_url = 'https://github.com'+i\n",
    "    page_year = requests.get(year_url)\n",
    "    soup_year = BeautifulSoup(page_year.content,'html.parser')\n",
    "    contribution_per_year.append(soup_year.find(class_=\"f4 text-normal mb-2\").text.strip()[:3])\n",
    "contribution_per_year "
   ]
  },
  {
   "cell_type": "code",
   "execution_count": 148,
   "metadata": {},
   "outputs": [
    {
     "data": {
      "image/png": "[encoded data removed]",
      "text/plain": [
       "<Figure size 432x288 with 1 Axes>"
      ]
     },
     "metadata": {
      "needs_background": "light"
     },
     "output_type": "display_data"
    }
   ],
   "source": [
    "fig = plt.figure()\n",
    "plt.bar(current_year[::-1],contribution_per_year[::-1])\n",
    "plt.xlabel(\"Year\")\n",
    "plt.xticks(current_year[::-1])\n",
    "plt.ylabel(\"No of Commits\")\n",
    "plt.title(\"No of Commits each year\")\n",
    "plt.show()"
   ]
  },
  {
   "cell_type": "code",
   "execution_count": 166,
   "metadata": {},
   "outputs": [],
   "source": [
    "def monthly_commit(month_year,current_year):\n",
    "    commit = []\n",
    "    month = []\n",
    "    count = 0\n",
    "#     i = 0\n",
    "    m = month_year[0]['data-date'][5:7]\n",
    "    # month.append(m)\n",
    "    for day in month_year:\n",
    "        if(day['data-date'][5:7]==m):\n",
    "            count = count + int(day['data-count'])\n",
    "        else:\n",
    "            commit.append(count)\n",
    "            month.append(m)\n",
    "    #         print(month)\n",
    "            count = 0\n",
    "            m = day['data-date'][5:7]\n",
    "            count = int(day['data-count'])\n",
    "    #         month.append(m)\n",
    "    month.append(m)\n",
    "    commit.append(count)\n",
    "    fig = plt.figure()\n",
    "    plt.bar(month,commit)\n",
    "    plt.xlabel(\"Months\")\n",
    "    plt.xticks(month)\n",
    "#     plt.yticks(commit)\n",
    "    plt.ylabel(\"No of Commits\")\n",
    "    plt.title(\"No of Commits each Month for\"+\" \"+str(current_year))\n",
    "    plt.show()\n",
    "#     i = i+1\n"
   ]
  },
  {
   "cell_type": "code",
   "execution_count": 167,
   "metadata": {},
   "outputs": [
    {
     "data": {
      "image/png": "[encoded data removed]",
      "text/plain": [
       "<Figure size 432x288 with 1 Axes>"
      ]
     },
     "metadata": {
      "needs_background": "light"
     },
     "output_type": "display_data"
    },
    {
     "data": {
      "image/png": "[encoded data removed]",
      "text/plain": [
       "<Figure size 432x288 with 1 Axes>"
      ]
     },
     "metadata": {
      "needs_background": "light"
     },
     "output_type": "display_data"
    },
    {
     "data": {
      "image/png": "[encoded data removed]",
      "text/plain": [
       "<Figure size 432x288 with 1 Axes>"
      ]
     },
     "metadata": {
      "needs_background": "light"
     },
     "output_type": "display_data"
    }
   ],
   "source": [
    "for i in range(len(current_year)):\n",
    "    year = 'https://github.com'+contribution[i]\n",
    "    page = requests.get(year)\n",
    "    soup_year = BeautifulSoup(page.content,'html.parser')\n",
    "    month = soup_year.find_all(class_='day')\n",
    "    monthly_commit(month,current_year[i])"
   ]
  },
  {
   "cell_type": "code",
   "execution_count": 168,
   "metadata": {},
   "outputs": [
    {
     "data": {
      "text/plain": [
       "'{\"Commits\":98,\"Pull requests\":2,\"Issues\":0,\"Code review\":0}'"
      ]
     },
     "execution_count": 168,
     "metadata": {},
     "output_type": "execute_result"
    }
   ],
   "source": [
    "data = soup.find(class_='js-activity-overview-graph-container')['data-percentages']\n",
    "data"
   ]
  },
  {
   "cell_type": "code",
   "execution_count": 169,
   "metadata": {},
   "outputs": [],
   "source": [
    "data = data.lstrip('{').rstrip('}').split(',')"
   ]
  },
  {
   "cell_type": "code",
   "execution_count": 170,
   "metadata": {},
   "outputs": [
    {
     "data": {
      "text/plain": [
       "98"
      ]
     },
     "execution_count": 170,
     "metadata": {},
     "output_type": "execute_result"
    }
   ],
   "source": [
    "commit_percentage = int(data[0][10:])\n",
    "commit_percentage"
   ]
  },
  {
   "cell_type": "code",
   "execution_count": 171,
   "metadata": {},
   "outputs": [
    {
     "data": {
      "text/plain": [
       "2"
      ]
     },
     "execution_count": 171,
     "metadata": {},
     "output_type": "execute_result"
    }
   ],
   "source": [
    "pull_request = int(data[1][16:])\n",
    "pull_request"
   ]
  },
  {
   "cell_type": "code",
   "execution_count": 172,
   "metadata": {},
   "outputs": [
    {
     "data": {
      "text/plain": [
       "0"
      ]
     },
     "execution_count": 172,
     "metadata": {},
     "output_type": "execute_result"
    }
   ],
   "source": [
    "issues = int(data[2][9:])\n",
    "issues"
   ]
  },
  {
   "cell_type": "code",
   "execution_count": 173,
   "metadata": {},
   "outputs": [
    {
     "data": {
      "text/plain": [
       "0"
      ]
     },
     "execution_count": 173,
     "metadata": {},
     "output_type": "execute_result"
    }
   ],
   "source": [
    "code_review = int(data[3][14:])\n",
    "code_review"
   ]
  },
  {
   "cell_type": "code",
   "execution_count": 174,
   "metadata": {},
   "outputs": [
    {
     "data": {
      "image/png": "[encoded data removed]",
      "text/plain": [
       "<Figure size 432x288 with 1 Axes>"
      ]
     },
     "metadata": {
      "needs_background": "light"
     },
     "output_type": "display_data"
    }
   ],
   "source": [
    "fig = plt.figure()\n",
    "plt.bar([0,1,2,3],[commit_percentage,pull_request,issues,code_review])\n",
    "plt.xlabel(\"Activity\")\n",
    "plt.xticks([0,1,2,3],('Commits','Pull Request','Issue','Code Review'))\n",
    "plt.ylabel('Percentage')\n",
    "plt.title(\"Activity Overview\")\n",
    "plt.show()"
   ]
  },
  {
   "cell_type": "code",
   "execution_count": null,
   "metadata": {},
   "outputs": [],
   "source": []
  },
  {
   "cell_type": "code",
   "execution_count": null,
   "metadata": {},
   "outputs": [],
   "source": []
  }
 ],
 "metadata": {
  "kernelspec": {
   "display_name": "Python 3",
   "language": "python",
   "name": "python3"
  },
  "language_info": {
   "codemirror_mode": {
    "name": "ipython",
    "version": 3
   },
   "file_extension": ".py",
   "mimetype": "text/x-python",
   "name": "python",
   "nbconvert_exporter": "python",
   "pygments_lexer": "ipython3",
   "version": "3.7.3"
  }
 },
 "nbformat": 4,
 "nbformat_minor": 2
}
